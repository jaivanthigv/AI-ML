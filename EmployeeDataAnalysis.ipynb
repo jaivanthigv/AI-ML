{
  "nbformat": 4,
  "nbformat_minor": 0,
  "metadata": {
    "colab": {
      "provenance": []
    },
    "kernelspec": {
      "name": "python3",
      "display_name": "Python 3"
    },
    "language_info": {
      "name": "python"
    }
  },
  "cells": [
    {
      "cell_type": "code",
      "execution_count": null,
      "metadata": {
        "id": "JJISOKdlJ1vp"
      },
      "outputs": [],
      "source": [
        "from pyspark.sql import SparkSession\n",
        "spark = SparkSession.builder \\\n",
        ".appName(\"EmployeeDataAnalysis\") \\\n",
        ".getOrCreate()"
      ]
    },
    {
      "cell_type": "code",
      "source": [
        "df = spark.read.option(\"header\", True).option(\"inferSchema\", True).csv(\"/content/employees1.csv\")\n",
        "df.show()"
      ],
      "metadata": {
        "colab": {
          "base_uri": "https://localhost:8080/"
        },
        "id": "aP2GZLHrK6xL",
        "outputId": "95814a6c-671f-425c-b2b0-53e2c8fc8a39"
      },
      "execution_count": null,
      "outputs": [
        {
          "output_type": "stream",
          "name": "stdout",
          "text": [
            "+-----------+----------+---------+--------+------------+---------+----------+------+\n",
            "|EMPLOYEE_ID|FIRST_NAME|LAST_NAME|   EMAIL|PHONE_NUMBER|HIRE_DATE|    JOB_ID|SALARY|\n",
            "+-----------+----------+---------+--------+------------+---------+----------+------+\n",
            "|        198|    Donald| OConnell|DOCONNEL|650.507.9833|21-Jun-07|  SH_CLERK|  2600|\n",
            "|        199|   Douglas|    Grant|  DGRANT|650.507.9844|13-Jan-08|  SH_CLERK|  2600|\n",
            "|        200|  Jennifer|   Whalen| JWHALEN|515.123.4444|17-Sep-03|   AD_ASST|  4400|\n",
            "|        201|   Michael|Hartstein|MHARTSTE|515.123.5555|17-Feb-04|    MK_MAN| 13000|\n",
            "|        202|       Pat|      Fay|    PFAY|603.123.6666|17-Aug-05|    MK_REP|  6000|\n",
            "|        203|     Susan|   Mavris| SMAVRIS|515.123.7777|07-Jun-02|    HR_REP|  6500|\n",
            "|        204|   Hermann|     Baer|   HBAER|515.123.8888|07-Jun-02|    PR_REP| 10000|\n",
            "|        205|   Shelley|  Higgins|SHIGGINS|515.123.8080|07-Jun-02|    AC_MGR| 12008|\n",
            "|        206|   William|    Gietz|  WGIETZ|515.123.8181|07-Jun-02|AC_ACCOUNT|  8300|\n",
            "|        100|    Steven|     King|   SKING|515.123.4567|17-Jun-03|   AD_PRES| 24000|\n",
            "|        101|     Neena|  Kochhar|NKOCHHAR|515.123.4568|21-Sep-05|     AD_VP| 17000|\n",
            "|        102|       Lex|  De Haan| LDEHAAN|515.123.4569|13-Jan-01|     AD_VP| 17000|\n",
            "|        103| Alexander|   Hunold| AHUNOLD|590.423.4567|03-Jan-06|   IT_PROG|  9000|\n",
            "|        104|     Bruce|    Ernst|  BERNST|590.423.4568|21-May-07|   IT_PROG|  6000|\n",
            "|        105|     David|   Austin| DAUSTIN|590.423.4569|25-Jun-05|   IT_PROG|  4800|\n",
            "|        106|     Valli|Pataballa|VPATABAL|590.423.4560|05-Feb-06|   IT_PROG|  4800|\n",
            "|        107|     Diana|  Lorentz|DLORENTZ|590.423.5567|07-Feb-07|   IT_PROG|  4200|\n",
            "|        108|     Nancy|Greenberg|NGREENBE|515.124.4569|17-Aug-02|    FI_MGR| 12008|\n",
            "|        109|    Daniel|   Faviet| DFAVIET|515.124.4169|16-Aug-02|FI_ACCOUNT|  9000|\n",
            "|        110|      John|     Chen|   JCHEN|515.124.4269|28-Sep-05|FI_ACCOUNT|  8200|\n",
            "+-----------+----------+---------+--------+------------+---------+----------+------+\n",
            "only showing top 20 rows\n",
            "\n"
          ]
        }
      ]
    },
    {
      "cell_type": "code",
      "source": [
        "df.printSchema()"
      ],
      "metadata": {
        "colab": {
          "base_uri": "https://localhost:8080/"
        },
        "id": "XE5VHFxZLIS6",
        "outputId": "493ef99b-df0b-4fa5-b09c-a4aeaf79bd4f"
      },
      "execution_count": null,
      "outputs": [
        {
          "output_type": "stream",
          "name": "stdout",
          "text": [
            "root\n",
            " |-- EMPLOYEE_ID: integer (nullable = true)\n",
            " |-- FIRST_NAME: string (nullable = true)\n",
            " |-- LAST_NAME: string (nullable = true)\n",
            " |-- EMAIL: string (nullable = true)\n",
            " |-- PHONE_NUMBER: string (nullable = true)\n",
            " |-- HIRE_DATE: string (nullable = true)\n",
            " |-- JOB_ID: string (nullable = true)\n",
            " |-- SALARY: integer (nullable = true)\n",
            "\n"
          ]
        }
      ]
    },
    {
      "cell_type": "code",
      "source": [
        "df.groupBy(\"JOB_ID\").avg(\"SALARY\").show()\n"
      ],
      "metadata": {
        "colab": {
          "base_uri": "https://localhost:8080/"
        },
        "id": "JOaJMBt-LXtp",
        "outputId": "a9f00f86-8a22-451d-c910-9c9236f1f144"
      },
      "execution_count": null,
      "outputs": [
        {
          "output_type": "stream",
          "name": "stdout",
          "text": [
            "+----------+-----------+\n",
            "|    JOB_ID|avg(SALARY)|\n",
            "+----------+-----------+\n",
            "|FI_ACCOUNT|     7920.0|\n",
            "|    MK_MAN|    13000.0|\n",
            "|   IT_PROG|     5760.0|\n",
            "|    FI_MGR|    12008.0|\n",
            "|AC_ACCOUNT|     8300.0|\n",
            "|    HR_REP|     6500.0|\n",
            "|  PU_CLERK|     2780.0|\n",
            "|    AC_MGR|    12008.0|\n",
            "|    PR_REP|    10000.0|\n",
            "|    ST_MAN|     7280.0|\n",
            "|    MK_REP|     6000.0|\n",
            "|    PU_MAN|    11000.0|\n",
            "|  SH_CLERK|     2600.0|\n",
            "|   AD_PRES|    24000.0|\n",
            "|   AD_ASST|     4400.0|\n",
            "|  ST_CLERK|     2750.0|\n",
            "|     AD_VP|    17000.0|\n",
            "+----------+-----------+\n",
            "\n"
          ]
        }
      ]
    },
    {
      "cell_type": "code",
      "source": [
        "from pyspark.sql.functions import col\n",
        "\n",
        "df = df.withColumn(\"Bonus\", col(\"SALARY\") * 0.10)\n",
        "df.show()\n"
      ],
      "metadata": {
        "colab": {
          "base_uri": "https://localhost:8080/"
        },
        "id": "F0y0zqF5LdWH",
        "outputId": "4dd242f7-2ccf-471f-ce14-89a6e5d1499d"
      },
      "execution_count": null,
      "outputs": [
        {
          "output_type": "stream",
          "name": "stdout",
          "text": [
            "+-----------+----------+---------+--------+------------+---------+----------+------+------+\n",
            "|EMPLOYEE_ID|FIRST_NAME|LAST_NAME|   EMAIL|PHONE_NUMBER|HIRE_DATE|    JOB_ID|SALARY| Bonus|\n",
            "+-----------+----------+---------+--------+------------+---------+----------+------+------+\n",
            "|        198|    Donald| OConnell|DOCONNEL|650.507.9833|21-Jun-07|  SH_CLERK|  2600| 260.0|\n",
            "|        199|   Douglas|    Grant|  DGRANT|650.507.9844|13-Jan-08|  SH_CLERK|  2600| 260.0|\n",
            "|        200|  Jennifer|   Whalen| JWHALEN|515.123.4444|17-Sep-03|   AD_ASST|  4400| 440.0|\n",
            "|        201|   Michael|Hartstein|MHARTSTE|515.123.5555|17-Feb-04|    MK_MAN| 13000|1300.0|\n",
            "|        202|       Pat|      Fay|    PFAY|603.123.6666|17-Aug-05|    MK_REP|  6000| 600.0|\n",
            "|        203|     Susan|   Mavris| SMAVRIS|515.123.7777|07-Jun-02|    HR_REP|  6500| 650.0|\n",
            "|        204|   Hermann|     Baer|   HBAER|515.123.8888|07-Jun-02|    PR_REP| 10000|1000.0|\n",
            "|        205|   Shelley|  Higgins|SHIGGINS|515.123.8080|07-Jun-02|    AC_MGR| 12008|1200.8|\n",
            "|        206|   William|    Gietz|  WGIETZ|515.123.8181|07-Jun-02|AC_ACCOUNT|  8300| 830.0|\n",
            "|        100|    Steven|     King|   SKING|515.123.4567|17-Jun-03|   AD_PRES| 24000|2400.0|\n",
            "|        101|     Neena|  Kochhar|NKOCHHAR|515.123.4568|21-Sep-05|     AD_VP| 17000|1700.0|\n",
            "|        102|       Lex|  De Haan| LDEHAAN|515.123.4569|13-Jan-01|     AD_VP| 17000|1700.0|\n",
            "|        103| Alexander|   Hunold| AHUNOLD|590.423.4567|03-Jan-06|   IT_PROG|  9000| 900.0|\n",
            "|        104|     Bruce|    Ernst|  BERNST|590.423.4568|21-May-07|   IT_PROG|  6000| 600.0|\n",
            "|        105|     David|   Austin| DAUSTIN|590.423.4569|25-Jun-05|   IT_PROG|  4800| 480.0|\n",
            "|        106|     Valli|Pataballa|VPATABAL|590.423.4560|05-Feb-06|   IT_PROG|  4800| 480.0|\n",
            "|        107|     Diana|  Lorentz|DLORENTZ|590.423.5567|07-Feb-07|   IT_PROG|  4200| 420.0|\n",
            "|        108|     Nancy|Greenberg|NGREENBE|515.124.4569|17-Aug-02|    FI_MGR| 12008|1200.8|\n",
            "|        109|    Daniel|   Faviet| DFAVIET|515.124.4169|16-Aug-02|FI_ACCOUNT|  9000| 900.0|\n",
            "|        110|      John|     Chen|   JCHEN|515.124.4269|28-Sep-05|FI_ACCOUNT|  8200| 820.0|\n",
            "+-----------+----------+---------+--------+------------+---------+----------+------+------+\n",
            "only showing top 20 rows\n",
            "\n"
          ]
        }
      ]
    },
    {
      "cell_type": "code",
      "source": [
        "from pyspark.sql.functions import col\n",
        "\n",
        "df.filter(col(\"SALARY\") > 20000).show()\n"
      ],
      "metadata": {
        "colab": {
          "base_uri": "https://localhost:8080/"
        },
        "id": "zVx2o-3zL10z",
        "outputId": "74f0c01d-4a14-49a5-e9ca-6f7a27f88e90"
      },
      "execution_count": 18,
      "outputs": [
        {
          "output_type": "stream",
          "name": "stdout",
          "text": [
            "+-----------+----------+---------+-----+------------+---------+-------+------+------+\n",
            "|EMPLOYEE_ID|FIRST_NAME|LAST_NAME|EMAIL|PHONE_NUMBER|HIRE_DATE| JOB_ID|SALARY| Bonus|\n",
            "+-----------+----------+---------+-----+------------+---------+-------+------+------+\n",
            "|        100|    Steven|     King|SKING|515.123.4567|17-Jun-03|AD_PRES| 24000|2400.0|\n",
            "+-----------+----------+---------+-----+------------+---------+-------+------+------+\n",
            "\n"
          ]
        }
      ]
    },
    {
      "cell_type": "code",
      "source": [
        "df.groupBy(\"JOB_ID\").avg(\"SALARY\").show()\n",
        "df.groupBy(\"JOB_ID\").avg(\"SALARY\", \"Bonus\").show()\n"
      ],
      "metadata": {
        "colab": {
          "base_uri": "https://localhost:8080/"
        },
        "id": "fjZ_fvA6MIaa",
        "outputId": "108f1105-2f66-4241-ccbc-c3b9c6020260"
      },
      "execution_count": null,
      "outputs": [
        {
          "output_type": "stream",
          "name": "stdout",
          "text": [
            "+----------+-----------+\n",
            "|    JOB_ID|avg(SALARY)|\n",
            "+----------+-----------+\n",
            "|FI_ACCOUNT|     7920.0|\n",
            "|    MK_MAN|    13000.0|\n",
            "|   IT_PROG|     5760.0|\n",
            "|    FI_MGR|    12008.0|\n",
            "|AC_ACCOUNT|     8300.0|\n",
            "|    HR_REP|     6500.0|\n",
            "|  PU_CLERK|     2780.0|\n",
            "|    AC_MGR|    12008.0|\n",
            "|    PR_REP|    10000.0|\n",
            "|    ST_MAN|     7280.0|\n",
            "|    MK_REP|     6000.0|\n",
            "|    PU_MAN|    11000.0|\n",
            "|  SH_CLERK|     2600.0|\n",
            "|   AD_PRES|    24000.0|\n",
            "|   AD_ASST|     4400.0|\n",
            "|  ST_CLERK|     2750.0|\n",
            "|     AD_VP|    17000.0|\n",
            "+----------+-----------+\n",
            "\n",
            "+----------+-----------+----------+\n",
            "|    JOB_ID|avg(SALARY)|avg(Bonus)|\n",
            "+----------+-----------+----------+\n",
            "|FI_ACCOUNT|     7920.0|     792.0|\n",
            "|    MK_MAN|    13000.0|    1300.0|\n",
            "|   IT_PROG|     5760.0|     576.0|\n",
            "|    FI_MGR|    12008.0|    1200.8|\n",
            "|AC_ACCOUNT|     8300.0|     830.0|\n",
            "|    HR_REP|     6500.0|     650.0|\n",
            "|  PU_CLERK|     2780.0|     278.0|\n",
            "|    AC_MGR|    12008.0|    1200.8|\n",
            "|    PR_REP|    10000.0|    1000.0|\n",
            "|    ST_MAN|     7280.0|     728.0|\n",
            "|    MK_REP|     6000.0|     600.0|\n",
            "|    PU_MAN|    11000.0|    1100.0|\n",
            "|  SH_CLERK|     2600.0|     260.0|\n",
            "|   AD_PRES|    24000.0|    2400.0|\n",
            "|   AD_ASST|     4400.0|     440.0|\n",
            "|  ST_CLERK|     2750.0|     275.0|\n",
            "|     AD_VP|    17000.0|    1700.0|\n",
            "+----------+-----------+----------+\n",
            "\n"
          ]
        }
      ]
    },
    {
      "cell_type": "code",
      "source": [],
      "metadata": {
        "id": "NoL4rAv8Mh8B"
      },
      "execution_count": null,
      "outputs": []
    }
  ]
}