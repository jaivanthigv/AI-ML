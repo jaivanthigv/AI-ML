{
 "cells": [
  {
   "cell_type": "code",
   "execution_count": 1,
   "id": "90698de6-8604-4e1c-969d-10959243d5df",
   "metadata": {},
   "outputs": [],
   "source": [
    "import numpy as np\n",
    "import pandas as pd"
   ]
  },
  {
   "cell_type": "code",
   "execution_count": 3,
   "id": "651ca241-9064-4008-9217-c6ac969b092f",
   "metadata": {},
   "outputs": [],
   "source": [
    "np.random.seed(42)"
   ]
  },
  {
   "cell_type": "code",
   "execution_count": 5,
   "id": "29b71db3-2f41-4989-906c-34a2a7660d8d",
   "metadata": {},
   "outputs": [],
   "source": [
    "employees = [f\"Employee_{i}\" for i in range(1,31)]"
   ]
  },
  {
   "cell_type": "code",
   "execution_count": 9,
   "id": "4eb1e300-cf5e-4b7f-9c9e-f92b89f57357",
   "metadata": {},
   "outputs": [],
   "source": [
    "date = pd.date_range(start=\"2025-07-01\", periods = 30, freq =\"D\")"
   ]
  },
  {
   "cell_type": "code",
   "execution_count": 11,
   "id": "e2b6f805-bbf1-4101-b88d-33d90abd04cf",
   "metadata": {},
   "outputs": [],
   "source": [
    "data =  pd.DataFrame({\n",
    "    \"Date\":np.tile(date, len(employees)),\n",
    "    \"Employee_ID\":np.repeat(employees, len(date)),\n",
    "    \"Working_hours\":np.random.normal(loc = 20, scale=5, size=len(date)*len(employees))\n",
    "})\n",
    "                   "
   ]
  },
  {
   "cell_type": "code",
   "execution_count": 13,
   "id": "ba6811e4-2f28-45a9-81d5-1bb8eb481871",
   "metadata": {},
   "outputs": [
    {
     "data": {
      "text/html": [
       "<div>\n",
       "<style scoped>\n",
       "    .dataframe tbody tr th:only-of-type {\n",
       "        vertical-align: middle;\n",
       "    }\n",
       "\n",
       "    .dataframe tbody tr th {\n",
       "        vertical-align: top;\n",
       "    }\n",
       "\n",
       "    .dataframe thead th {\n",
       "        text-align: right;\n",
       "    }\n",
       "</style>\n",
       "<table border=\"1\" class=\"dataframe\">\n",
       "  <thead>\n",
       "    <tr style=\"text-align: right;\">\n",
       "      <th></th>\n",
       "      <th>Date</th>\n",
       "      <th>Employee_ID</th>\n",
       "      <th>Working_hours</th>\n",
       "    </tr>\n",
       "  </thead>\n",
       "  <tbody>\n",
       "    <tr>\n",
       "      <th>0</th>\n",
       "      <td>2025-07-01</td>\n",
       "      <td>Employee_1</td>\n",
       "      <td>22.483571</td>\n",
       "    </tr>\n",
       "    <tr>\n",
       "      <th>1</th>\n",
       "      <td>2025-07-02</td>\n",
       "      <td>Employee_1</td>\n",
       "      <td>19.308678</td>\n",
       "    </tr>\n",
       "    <tr>\n",
       "      <th>2</th>\n",
       "      <td>2025-07-03</td>\n",
       "      <td>Employee_1</td>\n",
       "      <td>23.238443</td>\n",
       "    </tr>\n",
       "    <tr>\n",
       "      <th>3</th>\n",
       "      <td>2025-07-04</td>\n",
       "      <td>Employee_1</td>\n",
       "      <td>27.615149</td>\n",
       "    </tr>\n",
       "    <tr>\n",
       "      <th>4</th>\n",
       "      <td>2025-07-05</td>\n",
       "      <td>Employee_1</td>\n",
       "      <td>18.829233</td>\n",
       "    </tr>\n",
       "    <tr>\n",
       "      <th>...</th>\n",
       "      <td>...</td>\n",
       "      <td>...</td>\n",
       "      <td>...</td>\n",
       "    </tr>\n",
       "    <tr>\n",
       "      <th>895</th>\n",
       "      <td>2025-07-26</td>\n",
       "      <td>Employee_30</td>\n",
       "      <td>23.243549</td>\n",
       "    </tr>\n",
       "    <tr>\n",
       "      <th>896</th>\n",
       "      <td>2025-07-27</td>\n",
       "      <td>Employee_30</td>\n",
       "      <td>19.164410</td>\n",
       "    </tr>\n",
       "    <tr>\n",
       "      <th>897</th>\n",
       "      <td>2025-07-28</td>\n",
       "      <td>Employee_30</td>\n",
       "      <td>20.733568</td>\n",
       "    </tr>\n",
       "    <tr>\n",
       "      <th>898</th>\n",
       "      <td>2025-07-29</td>\n",
       "      <td>Employee_30</td>\n",
       "      <td>26.032545</td>\n",
       "    </tr>\n",
       "    <tr>\n",
       "      <th>899</th>\n",
       "      <td>2025-07-30</td>\n",
       "      <td>Employee_30</td>\n",
       "      <td>15.915322</td>\n",
       "    </tr>\n",
       "  </tbody>\n",
       "</table>\n",
       "<p>900 rows × 3 columns</p>\n",
       "</div>"
      ],
      "text/plain": [
       "          Date  Employee_ID  Working_hours\n",
       "0   2025-07-01   Employee_1      22.483571\n",
       "1   2025-07-02   Employee_1      19.308678\n",
       "2   2025-07-03   Employee_1      23.238443\n",
       "3   2025-07-04   Employee_1      27.615149\n",
       "4   2025-07-05   Employee_1      18.829233\n",
       "..         ...          ...            ...\n",
       "895 2025-07-26  Employee_30      23.243549\n",
       "896 2025-07-27  Employee_30      19.164410\n",
       "897 2025-07-28  Employee_30      20.733568\n",
       "898 2025-07-29  Employee_30      26.032545\n",
       "899 2025-07-30  Employee_30      15.915322\n",
       "\n",
       "[900 rows x 3 columns]"
      ]
     },
     "execution_count": 13,
     "metadata": {},
     "output_type": "execute_result"
    }
   ],
   "source": [
    "df = pd.DataFrame(data)\n",
    "df"
   ]
  },
  {
   "cell_type": "code",
   "execution_count": 17,
   "id": "01e75e41-b771-43f9-a9b6-91f0f69d4e8d",
   "metadata": {},
   "outputs": [],
   "source": [
    "df.to_csv(\"employee_working_hours.csv\" , index =False)"
   ]
  },
  {
   "cell_type": "code",
   "execution_count": 19,
   "id": "f823e63d-ab6f-4603-a248-ae179bc55216",
   "metadata": {},
   "outputs": [],
   "source": [
    "df_csv =pd.read_csv(\"employee_working_hours.csv\")"
   ]
  },
  {
   "cell_type": "code",
   "execution_count": 23,
   "id": "d76ba176-6846-4925-963d-b24fa9fe686c",
   "metadata": {},
   "outputs": [
    {
     "name": "stdout",
     "output_type": "stream",
     "text": [
      "         Date Employee_ID  Working_hours\n",
      "0  2025-07-01  Employee_1      22.483571\n",
      "1  2025-07-02  Employee_1      19.308678\n",
      "2  2025-07-03  Employee_1      23.238443\n",
      "3  2025-07-04  Employee_1      27.615149\n",
      "4  2025-07-05  Employee_1      18.829233\n",
      "       Working_hours\n",
      "count     900.000000\n",
      "mean       20.091926\n",
      "std         4.904530\n",
      "min         3.793663\n",
      "25%        16.745590\n",
      "50%        20.092131\n",
      "75%        23.246901\n",
      "max        39.263657\n",
      "30\n"
     ]
    }
   ],
   "source": [
    "print(df_csv.head())\n",
    "print(df_csv.describe())\n",
    "print(df_csv[\"Employee_ID\"].nunique())"
   ]
  },
  {
   "cell_type": "code",
   "execution_count": 27,
   "id": "6ef572bb-bc44-4573-a246-afff67751e53",
   "metadata": {},
   "outputs": [
    {
     "data": {
      "text/plain": [
       "Employee_ID\n",
       "Employee_30    662.606134\n",
       "Employee_21    649.712002\n",
       "Employee_11    642.282391\n",
       "Employee_6     641.817993\n",
       "Employee_13    634.225898\n",
       "Employee_29    631.906799\n",
       "Employee_26    628.785713\n",
       "Employee_28    622.726849\n",
       "Employee_10    616.074819\n",
       "Employee_20    613.164300\n",
       "Employee_7     609.838848\n",
       "Employee_8     607.205434\n",
       "Employee_16    606.985293\n",
       "Employee_14    604.314773\n",
       "Employee_27    603.784449\n",
       "Employee_3     601.932716\n",
       "Employee_4     596.962256\n",
       "Employee_24    594.304245\n",
       "Employee_15    591.394231\n",
       "Employee_19    586.585246\n",
       "Employee_5     585.756283\n",
       "Employee_2     581.825629\n",
       "Employee_23    580.485134\n",
       "Employee_22    579.695120\n",
       "Employee_9     578.485218\n",
       "Employee_1     571.777966\n",
       "Employee_17    570.315585\n",
       "Employee_25    569.284734\n",
       "Employee_12    569.016727\n",
       "Employee_18    549.480581\n",
       "Name: Working_hours, dtype: float64"
      ]
     },
     "execution_count": 27,
     "metadata": {},
     "output_type": "execute_result"
    }
   ],
   "source": [
    "total_hours = df_csv.groupby(\"Employee_ID\")[\"Working_hours\"].sum().sort_values(ascending=False)\n",
    "total_hours"
   ]
  },
  {
   "cell_type": "code",
   "execution_count": 29,
   "id": "03530477-9bdc-499b-adf2-b385cb992b7a",
   "metadata": {},
   "outputs": [],
   "source": [
    "avg_daily = df_csv.groupby(\"Employee_ID\")[\"Working_hours\"].mean()"
   ]
  },
  {
   "cell_type": "code",
   "execution_count": 37,
   "id": "5c897a2f-14d6-4f47-b309-dc8caaeceb35",
   "metadata": {},
   "outputs": [
    {
     "name": "stdout",
     "output_type": "stream",
     "text": [
      "         Date Employee_ID  Working_hours  Low_Hour_Flag  High_Hour_Flag\n",
      "0  2025-07-01  Employee_1      22.483571          False            True\n",
      "1  2025-07-02  Employee_1      19.308678          False            True\n",
      "2  2025-07-03  Employee_1      23.238443          False            True\n",
      "3  2025-07-04  Employee_1      27.615149          False            True\n",
      "4  2025-07-05  Employee_1      18.829233          False            True\n"
     ]
    }
   ],
   "source": [
    "threshold_low = 5\n",
    "threshold_high = 9\n",
    "df_csv[\"Low_Hour_Flag\"] = df_csv[\"Working_hours\"] < threshold_low\n",
    "df_csv[\"High_Hour_Flag\"] = df_csv[\"Working_hours\"] > threshold_high\n",
    "\n",
    "#view flagged rows\n",
    "print(df_csv[df_csv[\"Low_Hour_Flag\"] | df_csv[\"High_Hour_Flag\"]].head())"
   ]
  },
  {
   "cell_type": "code",
   "execution_count": 39,
   "id": "0f08a036-190d-40f0-88db-eec1636edb9d",
   "metadata": {},
   "outputs": [],
   "source": [
    "import matplotlib.pyplot as plt\n",
    "import seaborn as sns"
   ]
  },
  {
   "cell_type": "code",
   "execution_count": 41,
   "id": "7b2aadb1-4403-40ec-8f5b-1299b19628f9",
   "metadata": {},
   "outputs": [
    {
     "data": {
      "image/png": "[encoded data removed]",
      "text/plain": [
       "<Figure size 1000x500 with 1 Axes>"
      ]
     },
     "metadata": {},
     "output_type": "display_data"
    }
   ],
   "source": [
    "top10 = total_hours.head(10)\n",
    "plt.figure(figsize=(10,5))\n",
    "sns.barplot(x=top10.index,y=top10.values)\n",
    "plt.xticks(rotation=45)\n",
    "plt.title(\"Top 10 Employee by Total working hours\")\n",
    "plt.ylabel(\"Hours\")\n",
    "plt.tight_layout()\n",
    "plt.show()"
   ]
  },
  {
   "cell_type": "code",
   "execution_count": 43,
   "id": "89a76b57-0aee-490b-981d-39731a401905",
   "metadata": {},
   "outputs": [
    {
     "data": {
      "text/plain": [
       "Date             2025-07-01 00:00:00\n",
       "Employee_ID               Employee_2\n",
       "Working_hours              16.991467\n",
       "Name: 30, dtype: object"
      ]
     },
     "execution_count": 43,
     "metadata": {},
     "output_type": "execute_result"
    }
   ],
   "source": [
    "row = df.iloc[30]\n",
    "row"
   ]
  },
  {
   "cell_type": "code",
   "execution_count": null,
   "id": "d988a6d8-07d4-4495-a3ce-0cc71a8de77c",
   "metadata": {},
   "outputs": [],
   "source": []
  }
 ],
 "metadata": {
  "kernelspec": {
   "display_name": "Python [conda env:New folder]",
   "language": "python",
   "name": "conda-env-New_folder-py"
  },
  "language_info": {
   "codemirror_mode": {
    "name": "ipython",
    "version": 3
   },
   "file_extension": ".py",
   "mimetype": "text/x-python",
   "name": "python",
   "nbconvert_exporter": "python",
   "pygments_lexer": "ipython3",
   "version": "3.12.7"
  }
 },
 "nbformat": 4,
 "nbformat_minor": 5
}
