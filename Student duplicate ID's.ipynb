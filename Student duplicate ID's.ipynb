{
 "cells": [
  {
   "cell_type": "code",
   "execution_count": 67,
   "id": "9a9b7d60-c851-44bf-992d-f8a98e96968e",
   "metadata": {},
   "outputs": [
    {
     "name": "stdout",
     "output_type": "stream",
     "text": [
      "Random_integers: [1 2 3 2 4 5 3 6 1]\n"
     ]
    }
   ],
   "source": [
    "import numpy as np\n",
    "import pandas as pd\n",
    "random_int_array = np.random.randint(1, 100, size=10)  # 10 random integers between 1 and 99\n",
    "\n",
    "print(\"Random_integers:\", arr)"
   ]
  },
  {
   "cell_type": "code",
   "execution_count": 61,
   "id": "e5fba841-21fc-45c7-8e69-7198872c2076",
   "metadata": {},
   "outputs": [],
   "source": [
    "unique, counts = np.unique(arr, return_counts=True)"
   ]
  },
  {
   "cell_type": "code",
   "execution_count": 69,
   "id": "02e4319f-b6c6-4648-b319-eea642c0e100",
   "metadata": {},
   "outputs": [],
   "source": [
    "date = pd.date_range(start=\"2025-07-01\", periods = len(arr), freq =\"D\")"
   ]
  },
  {
   "cell_type": "code",
   "execution_count": 71,
   "id": "ef8d0394-f0b7-4afc-be73-b0cf8372a221",
   "metadata": {},
   "outputs": [
    {
     "data": {
      "text/plain": [
       "array([1, 2, 3])"
      ]
     },
     "execution_count": 71,
     "metadata": {},
     "output_type": "execute_result"
    }
   ],
   "source": [
    "duplicates = unique[counts > 1]\n",
    "duplicates"
   ]
  },
  {
   "cell_type": "code",
   "execution_count": 73,
   "id": "ef3c6708-ce7c-40f1-ba25-1e72dfe077b7",
   "metadata": {},
   "outputs": [
    {
     "name": "stdout",
     "output_type": "stream",
     "text": [
      "        Date  ID  Is_Duplicate\n",
      "0 2025-07-01   1          True\n",
      "1 2025-07-02   2          True\n",
      "2 2025-07-03   3          True\n",
      "3 2025-07-04   2          True\n",
      "4 2025-07-05   4         False\n",
      "5 2025-07-06   5         False\n",
      "6 2025-07-07   3          True\n",
      "7 2025-07-08   6         False\n",
      "8 2025-07-09   1          True\n"
     ]
    }
   ],
   "source": [
    "import numpy as np\n",
    "import pandas as pd\n",
    "\n",
    "# Example array\n",
    "arr = np.array([1, 2, 3, 2, 4, 5, 3, 6, 1])\n",
    "date = pd.date_range(start=\"2025-07-01\", periods=len(arr))\n",
    "\n",
    "# Detect duplicates\n",
    "is_duplicate = [np.sum(arr == val) > 1 for val in arr]  # Same length as arr\n",
    "\n",
    "# Create DataFrame\n",
    "df = pd.DataFrame({\n",
    "    \"Date\": date,\n",
    "    \"ID\": arr,\n",
    "    \"Is_Duplicate\": is_duplicate\n",
    "})\n",
    "\n",
    "print(df)"
   ]
  },
  {
   "cell_type": "code",
   "execution_count": 85,
   "id": "9139c6f3-9bb4-4187-8ada-e0bedb22c0c5",
   "metadata": {
    "scrolled": true
   },
   "outputs": [
    {
     "ename": "NameError",
     "evalue": "name 'is_dulicates' is not defined",
     "output_type": "error",
     "traceback": [
      "\u001b[1;31m---------------------------------------------------------------------------\u001b[0m",
      "\u001b[1;31mNameError\u001b[0m                                 Traceback (most recent call last)",
      "Cell \u001b[1;32mIn[85], line 4\u001b[0m\n\u001b[0;32m      2\u001b[0m \u001b[38;5;28;01mimport\u001b[39;00m \u001b[38;5;21;01mseaborn\u001b[39;00m \u001b[38;5;28;01mas\u001b[39;00m \u001b[38;5;21;01msns\u001b[39;00m\n\u001b[0;32m      3\u001b[0m plt\u001b[38;5;241m.\u001b[39mfigure(figsize\u001b[38;5;241m=\u001b[39m(\u001b[38;5;241m10\u001b[39m,\u001b[38;5;241m5\u001b[39m))\n\u001b[1;32m----> 4\u001b[0m sns\u001b[38;5;241m.\u001b[39mbarplot(x\u001b[38;5;241m=\u001b[39marr,y\u001b[38;5;241m=\u001b[39mis_dulicates)\n\u001b[0;32m      5\u001b[0m plt\u001b[38;5;241m.\u001b[39mxticks(rotation\u001b[38;5;241m=\u001b[39m\u001b[38;5;241m45\u001b[39m)\n\u001b[0;32m      6\u001b[0m plt\u001b[38;5;241m.\u001b[39mtitle(\u001b[38;5;124m\"\u001b[39m\u001b[38;5;124mDuplicate id\u001b[39m\u001b[38;5;124m\"\u001b[39m)\n",
      "\u001b[1;31mNameError\u001b[0m: name 'is_dulicates' is not defined"
     ]
    },
    {
     "data": {
      "text/plain": [
       "<Figure size 1000x500 with 0 Axes>"
      ]
     },
     "metadata": {},
     "output_type": "display_data"
    }
   ],
   "source": [
    "import matplotlib.pyplot as plt\n",
    "import seaborn as sns\n",
    "plt.figure(figsize=(10,5))\n",
    "sns.barplot(x=arr,y=is_dulicates)\n",
    "plt.xticks(rotation=45)\n",
    "plt.title(\"Duplicate id\")\n",
    "plt.xlabel(\"ID\")\n",
    "plt.ylabel(\"Dupcayes\")\n",
    "plt.tight_layout()\n",
    "plt.show()"
   ]
  },
  {
   "cell_type": "code",
   "execution_count": null,
   "id": "c561c3bd-336f-474c-872f-f120e7cdbb7e",
   "metadata": {},
   "outputs": [],
   "source": []
  }
 ],
 "metadata": {
  "kernelspec": {
   "display_name": "Python [conda env:New folder]",
   "language": "python",
   "name": "conda-env-New_folder-py"
  },
  "language_info": {
   "codemirror_mode": {
    "name": "ipython",
    "version": 3
   },
   "file_extension": ".py",
   "mimetype": "text/x-python",
   "name": "python",
   "nbconvert_exporter": "python",
   "pygments_lexer": "ipython3",
   "version": "3.12.7"
  }
 },
 "nbformat": 4,
 "nbformat_minor": 5
}
