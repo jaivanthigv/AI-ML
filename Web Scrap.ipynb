{
 "cells": [
  {
   "cell_type": "code",
   "execution_count": 81,
   "id": "26a55981-907a-4d55-acbf-424a24c73a87",
   "metadata": {},
   "outputs": [],
   "source": [
    "import requests\n",
    "from bs4 import BeautifulSoup"
   ]
  },
  {
   "cell_type": "code",
   "execution_count": 83,
   "id": "cb4ba4b3-f0b9-4374-b305-43103a688fe7",
   "metadata": {},
   "outputs": [],
   "source": [
    "# Target URL\n",
    "url = \"http://books.toscrape.com\"\n",
    "response = requests.get(url)\n",
    "soup = BeautifulSoup(response.content, \"html.parser\")\n"
   ]
  },
  {
   "cell_type": "code",
   "execution_count": 85,
   "id": "4d89304e-b821-43cc-beec-b451661a2e72",
   "metadata": {},
   "outputs": [
    {
     "data": {
      "text/plain": [
       "<Response [200]>"
      ]
     },
     "execution_count": 85,
     "metadata": {},
     "output_type": "execute_result"
    }
   ],
   "source": [
    "response"
   ]
  },
  {
   "cell_type": "code",
   "execution_count": 87,
   "id": "f5bb1e43-fc38-40a9-88ad-7142547eacf7",
   "metadata": {},
   "outputs": [],
   "source": [
    "soup = BeautifulSoup(response.content, \"html.parser\")"
   ]
  },
  {
   "cell_type": "code",
   "execution_count": 89,
   "id": "04e153b1-59f1-4e9d-a8df-8f39316adbbf",
   "metadata": {},
   "outputs": [],
   "source": [
    "# Target URL\n",
    "url = \"http://books.toscrape.com\""
   ]
  },
  {
   "cell_type": "code",
   "execution_count": 91,
   "id": "d2767b98-e23d-4618-99b3-c83ef6229144",
   "metadata": {},
   "outputs": [],
   "source": [
    "# Send a GET request\n",
    "response = requests.get(url)\n"
   ]
  },
  {
   "cell_type": "code",
   "execution_count": 99,
   "id": "3febc560-9807-4c40-a861-21f40a687a78",
   "metadata": {},
   "outputs": [
    {
     "name": "stdout",
     "output_type": "stream",
     "text": [
      "Title: A Light in the Attic\n",
      "Price: £51.77\n",
      "\n",
      "Title: Tipping the Velvet\n",
      "Price: £53.74\n",
      "\n",
      "Title: Soumission\n",
      "Price: £50.10\n",
      "\n",
      "Title: Sharp Objects\n",
      "Price: £47.82\n",
      "\n",
      "Title: Sapiens: A Brief History of Humankind\n",
      "Price: £54.23\n",
      "\n",
      "Title: The Requiem Red\n",
      "Price: £22.65\n",
      "\n",
      "Title: The Dirty Little Secrets of Getting Your Dream Job\n",
      "Price: £33.34\n",
      "\n",
      "Title: The Coming Woman: A Novel Based on the Life of the Infamous Feminist, Victoria Woodhull\n",
      "Price: £17.93\n",
      "\n",
      "Title: The Boys in the Boat: Nine Americans and Their Epic Quest for Gold at the 1936 Berlin Olympics\n",
      "Price: £22.60\n",
      "\n",
      "Title: The Black Maria\n",
      "Price: £52.15\n",
      "\n",
      "Title: Starving Hearts (Triangular Trade Trilogy, #1)\n",
      "Price: £13.99\n",
      "\n",
      "Title: Shakespeare's Sonnets\n",
      "Price: £20.66\n",
      "\n",
      "Title: Set Me Free\n",
      "Price: £17.46\n",
      "\n",
      "Title: Scott Pilgrim's Precious Little Life (Scott Pilgrim #1)\n",
      "Price: £52.29\n",
      "\n",
      "Title: Rip it Up and Start Again\n",
      "Price: £35.02\n",
      "\n",
      "Title: Our Band Could Be Your Life: Scenes from the American Indie Underground, 1981-1991\n",
      "Price: £57.25\n",
      "\n",
      "Title: Olio\n",
      "Price: £23.88\n",
      "\n",
      "Title: Mesaerion: The Best Science Fiction Stories 1800-1849\n",
      "Price: £37.59\n",
      "\n",
      "Title: Libertarianism for Beginners\n",
      "Price: £51.33\n",
      "\n",
      "Title: It's Only the Himalayas\n",
      "Price: £45.17\n",
      "\n"
     ]
    }
   ],
   "source": [
    "# Find all book containers\n",
    "book_data = []\n",
    "books = soup.find_all('article', class_='product_pod')\n",
    "\n",
    "for book in books:\n",
    "    title = book.h3.a['title']\n",
    "    price = book.find('p', class_='price_color').text\n",
    "    print(f\"Title: {title}\\nPrice: {price}\\n\")\n",
    "    book_data.append({\"Title\": title, \"Price\": price})"
   ]
  },
  {
   "cell_type": "code",
   "execution_count": 101,
   "id": "9e2ddb7e-7105-4738-9cf2-7520377f2dba",
   "metadata": {},
   "outputs": [
    {
     "name": "stdout",
     "output_type": "stream",
     "text": [
      "                                                Title   Price\n",
      "0                                A Light in the Attic  £51.77\n",
      "1                                  Tipping the Velvet  £53.74\n",
      "2                                          Soumission  £50.10\n",
      "3                                       Sharp Objects  £47.82\n",
      "4               Sapiens: A Brief History of Humankind  £54.23\n",
      "5                                     The Requiem Red  £22.65\n",
      "6   The Dirty Little Secrets of Getting Your Dream...  £33.34\n",
      "7   The Coming Woman: A Novel Based on the Life of...  £17.93\n",
      "8   The Boys in the Boat: Nine Americans and Their...  £22.60\n",
      "9                                     The Black Maria  £52.15\n",
      "10     Starving Hearts (Triangular Trade Trilogy, #1)  £13.99\n",
      "11                              Shakespeare's Sonnets  £20.66\n",
      "12                                        Set Me Free  £17.46\n",
      "13  Scott Pilgrim's Precious Little Life (Scott Pi...  £52.29\n",
      "14                          Rip it Up and Start Again  £35.02\n",
      "15  Our Band Could Be Your Life: Scenes from the A...  £57.25\n",
      "16                                               Olio  £23.88\n",
      "17  Mesaerion: The Best Science Fiction Stories 18...  £37.59\n",
      "18                       Libertarianism for Beginners  £51.33\n",
      "19                            It's Only the Himalayas  £45.17\n"
     ]
    }
   ],
   "source": [
    "\n",
    "df = pd.DataFrame(book_data)\n",
    "\n",
    "# Optional: Display the DataFrame\n",
    "print(df)\n"
   ]
  },
  {
   "cell_type": "code",
   "execution_count": 103,
   "id": "eb59c1a9-60f1-452f-aa92-5bb0d9f39f98",
   "metadata": {},
   "outputs": [],
   "source": []
  },
  {
   "cell_type": "code",
   "execution_count": null,
   "id": "533b0132-28eb-46d9-9a69-f8aeedf05c8c",
   "metadata": {},
   "outputs": [],
   "source": []
  },
  {
   "cell_type": "code",
   "execution_count": null,
   "id": "cdda7528-ee7e-4c1f-b1a2-a3e3a991b6c6",
   "metadata": {},
   "outputs": [],
   "source": []
  }
 ],
 "metadata": {
  "kernelspec": {
   "display_name": "Python [conda env:New folder]",
   "language": "python",
   "name": "conda-env-New_folder-py"
  },
  "language_info": {
   "codemirror_mode": {
    "name": "ipython",
    "version": 3
   },
   "file_extension": ".py",
   "mimetype": "text/x-python",
   "name": "python",
   "nbconvert_exporter": "python",
   "pygments_lexer": "ipython3",
   "version": "3.12.7"
  }
 },
 "nbformat": 4,
 "nbformat_minor": 5
}
